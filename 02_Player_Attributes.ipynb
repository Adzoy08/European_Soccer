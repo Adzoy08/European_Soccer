{
 "cells": [
  {
   "cell_type": "markdown",
   "id": "5b3d4377",
   "metadata": {},
   "source": [
    "## Players And Their Attributes"
   ]
  },
  {
   "cell_type": "code",
   "execution_count": 1,
   "id": "54c2e259",
   "metadata": {},
   "outputs": [],
   "source": [
    "# Import packages\n",
    "import pandas as pd\n",
    "from datetime import date"
   ]
  },
  {
   "cell_type": "code",
   "execution_count": 2,
   "id": "b60a4f42",
   "metadata": {},
   "outputs": [],
   "source": [
    "# load csv file\n",
    "df_pla_attr = pd.read_csv('data/Player_Attributes.csv')\n",
    "df_pla = pd.read_csv('data/Player.csv')"
   ]
  },
  {
   "cell_type": "code",
   "execution_count": 3,
   "id": "b662ac27",
   "metadata": {},
   "outputs": [],
   "source": [
    "# Sort date by descending to have recent entry at the top\n",
    "df_pla_attr.sort_values(by='date', ascending = False)\n",
    "\n",
    "# Remove duplicates whiles keeping the recent entry of player's attribute\n",
    "df_pla_attr.drop_duplicates(subset='player_fifa_api_id', inplace=True)"
   ]
  },
  {
   "cell_type": "code",
   "execution_count": 4,
   "id": "a3f71cd7",
   "metadata": {},
   "outputs": [
    {
     "name": "stdout",
     "output_type": "stream",
     "text": [
      "The number of players in the dataset is 11062 \n",
      "and the number of columns is 42\n"
     ]
    }
   ],
   "source": [
    "# Print the number of samples and columns in the dataset\n",
    "print('The number of players in the dataset is', df_pla_attr.shape[0], \n",
    "     '\\nand the number of columns is', df_pla_attr.shape[1])"
   ]
  },
  {
   "cell_type": "code",
   "execution_count": 6,
   "id": "76eb04c6",
   "metadata": {},
   "outputs": [],
   "source": [
    "# merge two datasets, Player and Player_attributes\n",
    "df_players = pd.merge(df_pla, df_pla_attr, on='player_api_id')"
   ]
  },
  {
   "cell_type": "code",
   "execution_count": 7,
   "id": "894cdb3d",
   "metadata": {},
   "outputs": [],
   "source": [
    "# Drop columns \n",
    "columns = ['id_x', 'id_y', 'player_fifa_api_id_y', 'date','crossing', 'finishing', 'heading_accuracy',\n",
    "       'short_passing', 'volleys', 'dribbling', 'curve', 'free_kick_accuracy', 'long_passing', \n",
    "       'acceleration', 'sprint_speed', 'agility', 'reactions', 'balance', 'shot_power', 'jumping', \n",
    "       'stamina', 'strength', 'long_shots', 'aggression', 'interceptions', 'positioning',\n",
    "       'vision', 'penalties', 'marking', 'standing_tackle', 'sliding_tackle',\n",
    "       'gk_diving', 'gk_handling', 'gk_kicking', 'gk_positioning', 'gk_reflexes']\n",
    "\n",
    "df_players.drop(columns=columns, inplace=True)"
   ]
  },
  {
   "cell_type": "code",
   "execution_count": 8,
   "id": "0cc83ec7",
   "metadata": {},
   "outputs": [],
   "source": [
    "# Calculate Age from birthday\n",
    "today = date.today()\n",
    "\n",
    "df_players['birthday'] = pd.to_datetime(df_players['birthday']).dt.date\n",
    "df_players['Age'] = today - df_players['birthday']\n",
    "df_players['Age'] = df_players['Age'].dt.days.astype(\"int16\") // 365"
   ]
  },
  {
   "cell_type": "code",
   "execution_count": null,
   "id": "29143fc5",
   "metadata": {},
   "outputs": [],
   "source": []
  }
 ],
 "metadata": {
  "kernelspec": {
   "display_name": "Python 3 (ipykernel)",
   "language": "python",
   "name": "python3"
  },
  "language_info": {
   "codemirror_mode": {
    "name": "ipython",
    "version": 3
   },
   "file_extension": ".py",
   "mimetype": "text/x-python",
   "name": "python",
   "nbconvert_exporter": "python",
   "pygments_lexer": "ipython3",
   "version": "3.8.18"
  }
 },
 "nbformat": 4,
 "nbformat_minor": 5
}

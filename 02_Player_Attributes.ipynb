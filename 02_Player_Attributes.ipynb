{
 "cells": [
  {
   "cell_type": "markdown",
   "id": "2763432f",
   "metadata": {},
   "source": [
    "## Players And Their Attributes"
   ]
  },
  {
   "cell_type": "code",
   "execution_count": 1,
   "id": "c6470d5a",
   "metadata": {},
   "outputs": [],
   "source": [
    "# Import packages\n",
    "import pandas as pd\n",
    "from datetime import date"
   ]
  },
  {
   "cell_type": "code",
   "execution_count": 2,
   "id": "557e23f3",
   "metadata": {},
   "outputs": [],
   "source": [
    "# load csv file\n",
    "df_pla_attr = pd.read_csv('data/Player_Attributes.csv')"
   ]
  },
  {
   "cell_type": "code",
   "execution_count": 3,
   "id": "56585a70",
   "metadata": {},
   "outputs": [],
   "source": [
    "# Sort date by descending to have recent entry at the top\n",
    "df_pla_attr.sort_values(by='date', ascending = False)\n",
    "\n",
    "# Remove duplicates whiles keeping the recent entry of player's attribute\n",
    "df_pla_attr.drop_duplicates(subset='player_fifa_api_id', inplace=True)"
   ]
  },
  {
   "cell_type": "code",
   "execution_count": null,
   "id": "633c5b31",
   "metadata": {},
   "outputs": [],
   "source": []
  }
 ],
 "metadata": {
  "kernelspec": {
   "display_name": "Python 3 (ipykernel)",
   "language": "python",
   "name": "python3"
  },
  "language_info": {
   "codemirror_mode": {
    "name": "ipython",
    "version": 3
   },
   "file_extension": ".py",
   "mimetype": "text/x-python",
   "name": "python",
   "nbconvert_exporter": "python",
   "pygments_lexer": "ipython3",
   "version": "3.8.18"
  }
 },
 "nbformat": 4,
 "nbformat_minor": 5
}

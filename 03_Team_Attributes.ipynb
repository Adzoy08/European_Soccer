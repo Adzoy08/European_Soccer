{
 "cells": [
  {
   "cell_type": "markdown",
   "id": "6da6039b",
   "metadata": {},
   "source": [
    "## Teams And Their Attributes"
   ]
  },
  {
   "cell_type": "code",
   "execution_count": 1,
   "id": "bc6a6aa9",
   "metadata": {},
   "outputs": [],
   "source": [
    "# Import packages\n",
    "import pandas as pd"
   ]
  },
  {
   "cell_type": "code",
   "execution_count": 2,
   "id": "392ec803",
   "metadata": {},
   "outputs": [],
   "source": [
    "# load csv file\n",
    "df_team_attr = pd.read_csv('data/Team_Attributes.csv')\n",
    "df_team = pd.read_csv('data/Team.csv')"
   ]
  },
  {
   "cell_type": "code",
   "execution_count": 3,
   "id": "37c8e5b8",
   "metadata": {},
   "outputs": [],
   "source": [
    "# Sort date by descending to have recent entry at the top\n",
    "df_team_attr.sort_values(by='date', ascending = False)\n",
    "\n",
    "# Remove duplicates whiles keeping the recent entry of team's attribute\n",
    "df_team_attr.drop_duplicates(subset='team_fifa_api_id', inplace=True)"
   ]
  },
  {
   "cell_type": "code",
   "execution_count": 4,
   "id": "fe3d66d8",
   "metadata": {},
   "outputs": [
    {
     "name": "stdout",
     "output_type": "stream",
     "text": [
      "The number of teams in the dataset is 285 \n",
      "and the number of columns is 25\n"
     ]
    }
   ],
   "source": [
    "# Print the number of samples and columns in the dataset\n",
    "print('The number of teams in the dataset is', df_team_attr.shape[0], \n",
    "     '\\nand the number of columns is', df_team_attr.shape[1])"
   ]
  },
  {
   "cell_type": "code",
   "execution_count": 5,
   "id": "cc088a40",
   "metadata": {},
   "outputs": [],
   "source": [
    "# merge two datasets, Team and Team_attributes\n",
    "df_teams = pd.merge(df_team, df_team_attr, on='team_api_id')"
   ]
  },
  {
   "cell_type": "code",
   "execution_count": null,
   "id": "12fe0cb3",
   "metadata": {},
   "outputs": [],
   "source": []
  }
 ],
 "metadata": {
  "kernelspec": {
   "display_name": "Python 3 (ipykernel)",
   "language": "python",
   "name": "python3"
  },
  "language_info": {
   "codemirror_mode": {
    "name": "ipython",
    "version": 3
   },
   "file_extension": ".py",
   "mimetype": "text/x-python",
   "name": "python",
   "nbconvert_exporter": "python",
   "pygments_lexer": "ipython3",
   "version": "3.8.18"
  }
 },
 "nbformat": 4,
 "nbformat_minor": 5
}

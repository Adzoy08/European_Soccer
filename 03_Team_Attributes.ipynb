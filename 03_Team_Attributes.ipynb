{
 "cells": [
  {
   "cell_type": "markdown",
   "id": "4c845927",
   "metadata": {},
   "source": [
    "## Teams And Their Attributes"
   ]
  },
  {
   "cell_type": "code",
   "execution_count": 1,
   "id": "14489c44",
   "metadata": {},
   "outputs": [],
   "source": [
    "# Import packages\n",
    "import pandas as pd"
   ]
  },
  {
   "cell_type": "code",
   "execution_count": null,
   "id": "bf6a98dc",
   "metadata": {},
   "outputs": [],
   "source": [
    "# load csv file\n",
    "df_team_attr = pd.read_csv('data/Team_Attributes.csv')\n",
    "df_team = pd.read_csv('data/Team.csv')"
   ]
  }
 ],
 "metadata": {
  "kernelspec": {
   "display_name": "Python 3 (ipykernel)",
   "language": "python",
   "name": "python3"
  },
  "language_info": {
   "codemirror_mode": {
    "name": "ipython",
    "version": 3
   },
   "file_extension": ".py",
   "mimetype": "text/x-python",
   "name": "python",
   "nbconvert_exporter": "python",
   "pygments_lexer": "ipython3",
   "version": "3.8.18"
  }
 },
 "nbformat": 4,
 "nbformat_minor": 5
}

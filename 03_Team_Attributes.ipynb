{
 "cells": [
  {
   "cell_type": "markdown",
   "id": "d6e2dafd",
   "metadata": {},
   "source": [
    "## Teams And Their Attributes"
   ]
  },
  {
   "cell_type": "code",
   "execution_count": 1,
   "id": "d39b3b6e",
   "metadata": {},
   "outputs": [],
   "source": [
    "# Import packages\n",
    "import pandas as pd"
   ]
  },
  {
   "cell_type": "code",
   "execution_count": 2,
   "id": "c3bfa0ff",
   "metadata": {},
   "outputs": [],
   "source": [
    "# load csv file\n",
    "df_team_attr = pd.read_csv('data/Team_Attributes.csv')\n",
    "df_team = pd.read_csv('data/Team.csv')"
   ]
  },
  {
   "cell_type": "code",
   "execution_count": 3,
   "id": "d04bc68a",
   "metadata": {},
   "outputs": [],
   "source": [
    "# Sort date by descending to have recent entry at the top\n",
    "df_team_attr.sort_values(by='date', ascending = False)\n",
    "\n",
    "# Remove duplicates whiles keeping the recent entry of team's attribute\n",
    "df_team_attr.drop_duplicates(subset='team_fifa_api_id', inplace=True)"
   ]
  },
  {
   "cell_type": "code",
   "execution_count": null,
   "id": "e676f255",
   "metadata": {},
   "outputs": [],
   "source": []
  }
 ],
 "metadata": {
  "kernelspec": {
   "display_name": "Python 3 (ipykernel)",
   "language": "python",
   "name": "python3"
  },
  "language_info": {
   "codemirror_mode": {
    "name": "ipython",
    "version": 3
   },
   "file_extension": ".py",
   "mimetype": "text/x-python",
   "name": "python",
   "nbconvert_exporter": "python",
   "pygments_lexer": "ipython3",
   "version": "3.8.18"
  }
 },
 "nbformat": 4,
 "nbformat_minor": 5
}

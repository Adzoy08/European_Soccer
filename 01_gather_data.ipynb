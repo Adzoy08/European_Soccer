{
 "cells": [
  {
   "cell_type": "markdown",
   "id": "c9798bd0",
   "metadata": {},
   "source": [
    "# EUROPEAN SOCCER DATA ANALYSIS"
   ]
  },
  {
   "cell_type": "markdown",
   "id": "493a477c",
   "metadata": {},
   "source": [
    "Click [here](https://www.kaggle.com/datasets/hugomathien/soccer) for a detail report from *Kaggle* on the European Soccer Dataset."
   ]
  },
  {
   "cell_type": "markdown",
   "id": "65a9bd3f",
   "metadata": {},
   "source": [
    "### Gather Data from Kaggle for Analysis"
   ]
  },
  {
   "cell_type": "code",
   "execution_count": 1,
   "id": "ec3a7f20",
   "metadata": {},
   "outputs": [],
   "source": [
    "import os\n",
    "import sqlite3\n",
    "import pandas as pd\n",
    "import opendatasets as od"
   ]
  },
  {
   "cell_type": "code",
   "execution_count": 3,
   "id": "105424f3",
   "metadata": {
    "scrolled": true
   },
   "outputs": [
    {
     "name": "stdout",
     "output_type": "stream",
     "text": [
      "Please provide your Kaggle credentials to download this dataset. Learn more: http://bit.ly/kaggle-creds\n",
      "Your Kaggle username: samuelboadi\n",
      "Your Kaggle Key: ········\n",
      "Downloading soccer.zip to .\\soccer\n"
     ]
    },
    {
     "name": "stderr",
     "output_type": "stream",
     "text": [
      "100%|██████████████████████████████████████| 32.7M/32.7M [00:46<00:00, 745kB/s]\n"
     ]
    },
    {
     "name": "stdout",
     "output_type": "stream",
     "text": [
      "\n"
     ]
    }
   ],
   "source": [
    "# Assign the Kaggle dataset \n",
    "dataset = 'https://www.kaggle.com/datasets/hugomathien/soccer'\n",
    "\n",
    "od.download(dataset)"
   ]
  },
  {
   "cell_type": "code",
   "execution_count": 4,
   "id": "52feac48",
   "metadata": {},
   "outputs": [
    {
     "name": "stdout",
     "output_type": "stream",
     "text": [
      "List of all tables in the database\n",
      "[('sqlite_sequence',), ('Player_Attributes',), ('Player',), ('Match',), ('League',), ('Country',), ('Team',), ('Team_Attributes',)]\n"
     ]
    }
   ],
   "source": [
    "# Create a SQL connection\n",
    "con = sqlite3.connect(\"soccer\\database.sqlite\")\n",
    "\n",
    "# Query to list all tables\n",
    "sql_query = \"\"\"SELECT name FROM sqlite_master WHERE type = 'table';\"\"\"\n",
    "\n",
    "cur = con.cursor()\n",
    "cur.execute(sql_query)\n",
    "print(\"List of all tables in the database\")\n",
    "print(cur.fetchall())\n",
    "con.close()"
   ]
  },
  {
   "cell_type": "code",
   "execution_count": 5,
   "id": "a4604df1",
   "metadata": {},
   "outputs": [],
   "source": [
    "# Make directory if it doesn't already exist\n",
    "folder_name = 'data'\n",
    "if not os.path.exists(folder_name):\n",
    "    os.makedirs(folder_name)"
   ]
  },
  {
   "cell_type": "code",
   "execution_count": 6,
   "id": "6b44f4fa",
   "metadata": {},
   "outputs": [],
   "source": [
    "# Tables in the database with corresponding dataframe name\n",
    "tables = {'sqlite_sequence': 'df_seq', 'Player_Attributes': 'df_pla_attr', 'Player': 'df_pla', 'Match': 'df_match', 'League': 'df_leag', 'Country': 'df_coun', 'Team': 'df_team', 'Team_Attributes': 'df_team_attr'}\n",
    "\n",
    "con = sqlite3.connect(\"soccer\\database.sqlite\")\n",
    "\n",
    "# Save each table in the database to csv file\n",
    "for i in range(len(tables)):\n",
    "    df = pd.read_sql_query(\"SELECT * FROM {}\" .format(list(tables.keys())[i]), con)\n",
    "    df.to_csv('data/{}.csv' .format(list(tables.keys())[i]), index=False)\n",
    "    globals()[list(tables.values())[i]] = df\n",
    "\n",
    "con.close()"
   ]
  },
  {
   "cell_type": "code",
   "execution_count": null,
   "id": "90eb1733",
   "metadata": {},
   "outputs": [],
   "source": []
  }
 ],
 "metadata": {
  "kernelspec": {
   "display_name": "Python 3 (ipykernel)",
   "language": "python",
   "name": "python3"
  },
  "language_info": {
   "codemirror_mode": {
    "name": "ipython",
    "version": 3
   },
   "file_extension": ".py",
   "mimetype": "text/x-python",
   "name": "python",
   "nbconvert_exporter": "python",
   "pygments_lexer": "ipython3",
   "version": "3.8.18"
  }
 },
 "nbformat": 4,
 "nbformat_minor": 5
}

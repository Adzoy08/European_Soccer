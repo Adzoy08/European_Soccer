{
 "cells": [
  {
   "cell_type": "markdown",
   "id": "20799f30",
   "metadata": {},
   "source": [
    "# EUROPEAN SOCCER DATA ANALYSIS"
   ]
  },
  {
   "cell_type": "markdown",
   "id": "dd9c0c8b",
   "metadata": {},
   "source": [
    "Click [here](https://www.kaggle.com/datasets/hugomathien/soccer) for a detail report from *Kaggle* on the European Soccer Dataset."
   ]
  },
  {
   "cell_type": "markdown",
   "id": "eca19449",
   "metadata": {},
   "source": [
    "### Gather Data from Kaggle for Analysis"
   ]
  },
  {
   "cell_type": "code",
   "execution_count": null,
   "id": "c2c80d42",
   "metadata": {},
   "outputs": [],
   "source": []
  }
 ],
 "metadata": {
  "kernelspec": {
   "display_name": "Python 3 (ipykernel)",
   "language": "python",
   "name": "python3"
  },
  "language_info": {
   "codemirror_mode": {
    "name": "ipython",
    "version": 3
   },
   "file_extension": ".py",
   "mimetype": "text/x-python",
   "name": "python",
   "nbconvert_exporter": "python",
   "pygments_lexer": "ipython3",
   "version": "3.8.18"
  }
 },
 "nbformat": 4,
 "nbformat_minor": 5
}

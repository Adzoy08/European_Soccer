{
 "cells": [
  {
   "cell_type": "markdown",
   "id": "280793c9",
   "metadata": {},
   "source": [
    "# EUROPEAN SOCCER DATA ANALYSIS"
   ]
  },
  {
   "cell_type": "markdown",
   "id": "c452a479",
   "metadata": {},
   "source": [
    "Click [here](https://www.kaggle.com/datasets/hugomathien/soccer) for a detail report from *Kaggle* on the European Soccer Dataset."
   ]
  },
  {
   "cell_type": "markdown",
   "id": "1707eae7",
   "metadata": {},
   "source": [
    "### Gather Data from Kaggle for Analysis"
   ]
  },
  {
   "cell_type": "code",
   "execution_count": 1,
   "id": "439c1e2d",
   "metadata": {},
   "outputs": [],
   "source": [
    "import os\n",
    "import sqlite3\n",
    "import pandas as pd\n",
    "import opendatasets as od\n",
    "from datetime import date"
   ]
  },
  {
   "cell_type": "code",
   "execution_count": 3,
   "id": "e2894b94",
   "metadata": {},
   "outputs": [
    {
     "name": "stdout",
     "output_type": "stream",
     "text": [
      "Please provide your Kaggle credentials to download this dataset. Learn more: http://bit.ly/kaggle-creds\n",
      "Your Kaggle username: samuelboadi\n",
      "Your Kaggle Key: ········\n",
      "Downloading soccer.zip to .\\soccer\n"
     ]
    },
    {
     "name": "stderr",
     "output_type": "stream",
     "text": [
      "100%|██████████████████████████████████████| 32.7M/32.7M [00:46<00:00, 745kB/s]\n"
     ]
    },
    {
     "name": "stdout",
     "output_type": "stream",
     "text": [
      "\n"
     ]
    }
   ],
   "source": [
    "# Assign the Kaggle dataset \n",
    "dataset = 'https://www.kaggle.com/datasets/hugomathien/soccer'\n",
    "\n",
    "od.download(dataset)"
   ]
  },
  {
   "cell_type": "code",
   "execution_count": null,
   "id": "fd6e1caf",
   "metadata": {},
   "outputs": [],
   "source": []
  }
 ],
 "metadata": {
  "kernelspec": {
   "display_name": "Python 3 (ipykernel)",
   "language": "python",
   "name": "python3"
  },
  "language_info": {
   "codemirror_mode": {
    "name": "ipython",
    "version": 3
   },
   "file_extension": ".py",
   "mimetype": "text/x-python",
   "name": "python",
   "nbconvert_exporter": "python",
   "pygments_lexer": "ipython3",
   "version": "3.8.18"
  }
 },
 "nbformat": 4,
 "nbformat_minor": 5
}
